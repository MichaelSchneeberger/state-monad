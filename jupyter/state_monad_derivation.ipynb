{
 "cells": [
  {
   "cell_type": "code",
   "execution_count": 1,
   "id": "11a62aa0-c6e4-4124-a52b-f8007f935f10",
   "metadata": {},
   "outputs": [],
   "source": [
    "from abc import abstractmethod, ABC\n",
    "from typing import Callable, Any\n",
    "from dataclasses import dataclass, replace\n",
    "from donotation import do\n",
    "\n",
    "# define some initial state\n",
    "state = {'init': 3}"
   ]
  },
  {
   "attachments": {},
   "cell_type": "markdown",
   "id": "fbcceac9-7dec-4b50-8b3f-e18427ed1075",
   "metadata": {},
   "source": [
    "# State Monad Derivation\n",
    "\n",
    "This document demonstrates how the concept of a state monad, originally defined in Haskell, can be progressively translated into Python.\n",
    "\n",
    "\n",
    "## Translating from Haskell to Python\n",
    "\n",
    "### Monad\n",
    "\n",
    "We begin by converting the Monad type class definition from [Haskell's Monad documentation](https://wiki.haskell.org/Monad) into Python.\n",
    "The initial Python code (shown below) includes placeholder functions `map` or `flat_map` that currently return `None` and do not perform any operations.\n",
    "These placeholders are designed to demonstrate the conversion process from Haskell to Python."
   ]
  },
  {
   "cell_type": "code",
   "execution_count": 2,
   "id": "e632d880-7948-49b5-8419-377404685957",
   "metadata": {},
   "outputs": [],
   "source": [
    "# type class surrogate\n",
    "class Monad[U]:\n",
    "    pass\n",
    "\n",
    "def map[U, V](m: Monad[U], fn: Callable[[U], V]) -> Monad[V]:\n",
    "    ...\n",
    "\n",
    "def flat_map[U, V](m: Monad[U], fn: Callable[[U], Monad[V]]) -> Monad[V]:\n",
    "    ...\n",
    "\n",
    "class return_[V]:\n",
    "    def __init__(self, value: V) -> Monad[V]: ..."
   ]
  },
  {
   "cell_type": "markdown",
   "id": "5d49fa4f-3de5-4cb8-9e35-72bb1835dab6",
   "metadata": {},
   "source": [
    "A more Pythonic, object oriented approach is to implement functions as methods within the abstract `Monad` class."
   ]
  },
  {
   "cell_type": "code",
   "execution_count": 3,
   "id": "87c81561-c266-4a0c-84f2-47597afbbcde",
   "metadata": {},
   "outputs": [],
   "source": [
    "class Monad[U](ABC):\n",
    "    @abstractmethod\n",
    "    def flat_map[V](self, fn: Callable[[U], V]):\n",
    "        ...\n",
    "\n",
    "    @abstractmethod\n",
    "    def map[V](self, fn: Callable[[U], Monad[V]]):\n",
    "        ...\n",
    "    \n",
    "    @abstractmethod\n",
    "    def return_(self, val: U):\n",
    "        ..."
   ]
  },
  {
   "cell_type": "markdown",
   "id": "1fe2f038-e631-4236-828a-6a6def503ee8",
   "metadata": {},
   "source": [
    "### State Monad\n",
    "\n",
    "In Haskell, a Monad type class can be implemented for various types `U`.\n",
    "Specifically the [State Monad](https://wiki.haskell.org/State_Monad) is defined for the type `U := Callable[[State], tuple[State, V]]`, wehere `State` represents the state and `V` represents the value produced.\n",
    "\n",
    "In Python, this concept is translated by defining a `StateMonad` class that inherits from `Monad` class containing a function `run_state` that computes the valued given some state.\n",
    "\n",
    "<!-- Implement a concrete Monad: The StateMonad. [https://wiki.haskell.org/State_Monad](https://wiki.haskell.org/State_Monad). -->"
   ]
  },
  {
   "cell_type": "code",
   "execution_count": 4,
   "id": "ca705c51-0b9c-4f65-b6de-73131d9b2bd4",
   "metadata": {},
   "outputs": [
    {
     "name": "stdout",
     "output_type": "stream",
     "text": [
      "expr=StateMonad(run_state=<function StateMonad.flat_map.<locals>.run_state at 0x000002A463DEE8E0>)\n",
      "result=({'init': 3}, 8)\n"
     ]
    }
   ],
   "source": [
    "@dataclass(frozen=True)\n",
    "class StateMonad[State, U](Monad[Callable[[State], tuple[State, U]]]):\n",
    "\n",
    "    # monad data\n",
    "    # ##########\n",
    "    \n",
    "    run_state: Callable[[State], tuple[State, U]]\n",
    "\n",
    "    # monad methods\n",
    "    # #############\n",
    "    \n",
    "    def flat_map(self, fn):\n",
    "        def run_state(state: State):\n",
    "            n_state, val = self.run_state(state)\n",
    "            return fn(val).run_state(n_state)\n",
    "\n",
    "        return replace(self, run_state=run_state)\n",
    "    \n",
    "    def map(self, fn):\n",
    "        def run_state(state: State):\n",
    "            n_state, val = self.run_state(state)\n",
    "            return n_state, fn(val)\n",
    "\n",
    "        return replace(self, run_state=run_state)\n",
    "\n",
    "    @staticmethod\n",
    "    def return_(val):\n",
    "        return StateMonad(run_state=lambda s: (s, val))\n",
    "    \n",
    "    # state monad methods\n",
    "    # ###################\n",
    "\n",
    "    @staticmethod\n",
    "    def get():\n",
    "        def run_state(state):\n",
    "            return state, state\n",
    "\n",
    "        return StateMonad(run_state=run_state)\n",
    "    \n",
    "    def put(self, state):\n",
    "        def run_state(state_):\n",
    "            _, val = self.run_state(state_)\n",
    "            return state, val\n",
    "\n",
    "        return replace(self, run_state=run_state)\n",
    "\n",
    "expr = StateMonad.return_(5).flat_map(\n",
    "    lambda v: StateMonad.get().map(\n",
    "         lambda state: state['init'] + v    \n",
    "    )\n",
    ")\n",
    "\n",
    "result = expr.run_state(state)\n",
    "\n",
    "print(f'{expr=}')\n",
    "print(f'{result=}')"
   ]
  },
  {
   "cell_type": "markdown",
   "id": "428f8465-84cc-43c1-a80c-d8febf7762c5",
   "metadata": {},
   "source": [
    "The expression `expr` created with the state monad operators `return_`, `flat_map`, and `get`, can be rewritten using the `donotation` Python library as follows."
   ]
  },
  {
   "cell_type": "code",
   "execution_count": 5,
   "id": "75aadf09-3710-4818-965e-e89d5eef5197",
   "metadata": {},
   "outputs": [
    {
     "data": {
      "text/plain": [
       "({'init': 3}, 8)"
      ]
     },
     "execution_count": 5,
     "metadata": {},
     "output_type": "execute_result"
    }
   ],
   "source": [
    "@do()\n",
    "def create_expression():\n",
    "    v = yield from StateMonad.return_(5)\n",
    "    state = yield from StateMonad.get()\n",
    "    return StateMonad.return_(state['init'] + v)\n",
    "\n",
    "create_expression().run_state(state)"
   ]
  },
  {
   "cell_type": "markdown",
   "id": "7a613a25-c583-4877-abd0-97bd9f960850",
   "metadata": {},
   "source": [
    "### State Monad Operations as classes\n",
    "\n",
    "To organize the `StateMonad` implementation, we decompose the state monad operations into multiple dataclasses."
   ]
  },
  {
   "cell_type": "code",
   "execution_count": 6,
   "id": "c2d3c70c-9a82-4afd-97fa-916e41e2f277",
   "metadata": {},
   "outputs": [],
   "source": [
    "class StateMonadNode(ABC):\n",
    "    @abstractmethod\n",
    "    def run_state(self, state):\n",
    "        ...\n",
    "\n",
    "@dataclass(frozen=True)\n",
    "class FromImpl(StateMonadNode):\n",
    "    value: int\n",
    "\n",
    "    def run_state(self, state):\n",
    "        return state, self.value\n",
    "\n",
    "@dataclass(frozen=True)\n",
    "class MapImpl(StateMonadNode):\n",
    "    child: StateMonadNode\n",
    "    map_func: Callable[[int], int]\n",
    "\n",
    "    def run_state(self, state):\n",
    "        state, val = self.child.run_state(state)\n",
    "        return state, self.map_func(val)\n",
    "\n",
    "@dataclass(frozen=True)\n",
    "class FlatMapImpl(StateMonadNode):\n",
    "    child: StateMonadNode\n",
    "    fmap_func: Callable[[int], StateMonadNode]\n",
    "\n",
    "    def run_state(self, state):\n",
    "        state, val = self.child.run_state(state)\n",
    "        return self.fmap_func(val).run_state(state)\n",
    "\n",
    "@dataclass(frozen=True)\n",
    "class GetImpl(StateMonadNode):\n",
    "    def run_state(self, state):\n",
    "        return state, state\n",
    "\n",
    "@dataclass(frozen=True)\n",
    "class PutImpl(StateMonadNode):\n",
    "    child: StateMonadNode\n",
    "    state: Any\n",
    "\n",
    "    def run_state(self, state):\n",
    "        _, val = self.child.run_state(state)\n",
    "        return self.state, val"
   ]
  },
  {
   "cell_type": "markdown",
   "id": "497dbb93-a40d-4ab5-b2a2-2c330ea3253e",
   "metadata": {},
   "source": [
    "Each dataclass represents a node in a tree-like structure, collectively forming the state monad expression."
   ]
  },
  {
   "cell_type": "code",
   "execution_count": 7,
   "id": "c6856b1b-2f3b-4149-9cb0-d7e164b5914d",
   "metadata": {},
   "outputs": [
    {
     "name": "stdout",
     "output_type": "stream",
     "text": [
      "expr=FlatMapImpl(child=FromImpl(value=5), fmap_func=<function <lambda> at 0x000002A463DEFC40>)\n",
      "result=({'init': 3}, 8)\n"
     ]
    }
   ],
   "source": [
    "expr = FlatMapImpl(\n",
    "    child=FromImpl(value=5),\n",
    "    fmap_func=lambda v: MapImpl(\n",
    "        child=GetImpl(),\n",
    "        map_func=lambda state: state['init'] + v\n",
    "    )\n",
    ")\n",
    "\n",
    "result = expr.run_state(state)\n",
    "\n",
    "print(f'{expr=}')\n",
    "print(f'{result=}')"
   ]
  },
  {
   "cell_type": "markdown",
   "id": "72682fa3-41eb-4104-bc7a-4f9c9701be08",
   "metadata": {},
   "source": [
    "Defining the expression `expr` directly can be complex. Instead, we use method chaining to construct the expression more elegantly."
   ]
  },
  {
   "cell_type": "code",
   "execution_count": 8,
   "id": "acd8c240-e3f3-49a1-b4c8-bd104df96728",
   "metadata": {},
   "outputs": [
    {
     "name": "stdout",
     "output_type": "stream",
     "text": [
      "expr=StateMonad(data=FlatMapImpl(child=FromImpl(value=5), fmap_func=<function create_expression.<locals>._donotation_flatmap_func_0 at 0x000002A463E30860>))\n",
      "result=({'init': 3}, 8)\n"
     ]
    }
   ],
   "source": [
    "@dataclass(frozen=True)\n",
    "class StateMonad(StateMonadNode):\n",
    "    data: StateMonadNode\n",
    "\n",
    "    def run_state(self, state):\n",
    "        return self.data.run_state(state)\n",
    "    \n",
    "    def map(self, map_func):\n",
    "        data = MapImpl(\n",
    "            child=self.data,\n",
    "            map_func=map_func,\n",
    "        )\n",
    "        \n",
    "        return replace(\n",
    "            self,\n",
    "            data=data,\n",
    "        )\n",
    "\n",
    "    def flat_map(self, fmap_func):\n",
    "        data = FlatMapImpl(\n",
    "            child=self.data,\n",
    "            fmap_func=fmap_func\n",
    "        )\n",
    "        \n",
    "        return replace(\n",
    "            self,\n",
    "            data=data,\n",
    "        )\n",
    "\n",
    "    def get(self):\n",
    "        return replace(\n",
    "            self,\n",
    "            data=GetImpl(),\n",
    "        )\n",
    "    \n",
    "    def put(self, state):\n",
    "        return replace(\n",
    "            self,\n",
    "            data=PutImpl(child=self.data, state=state,),\n",
    "        )\n",
    "\n",
    "# could be implemented as a classmethod as well\n",
    "def from_(val: int):\n",
    "    return StateMonad(\n",
    "        data=FromImpl(\n",
    "            value=val\n",
    "        )\n",
    "    )\n",
    "    \n",
    "expr = from_(5).map(lambda v: 2*v)\n",
    "\n",
    "\n",
    "@do()\n",
    "def create_expression():\n",
    "    v = yield from from_(5)\n",
    "    state = yield from from_(None).get()\n",
    "    return from_(state['init'] + v)\n",
    "\n",
    "expr = create_expression()\n",
    "\n",
    "result = expr.run_state(state)\n",
    "\n",
    "print(f'{expr=}')\n",
    "print(f'{result=}')"
   ]
  },
  {
   "cell_type": "markdown",
   "id": "f9fc25a9-d3f9-4f68-a428-9cd05ffa1a21",
   "metadata": {},
   "source": [
    "## Zip Operator\n",
    "\n",
    "Implement the `zip` operator for the `StateMonad` class. "
   ]
  },
  {
   "cell_type": "code",
   "execution_count": 9,
   "id": "8a7d5680-d226-4e0f-8094-6eeb544c7885",
   "metadata": {},
   "outputs": [
    {
     "name": "stdout",
     "output_type": "stream",
     "text": [
      "expr=ZipStateMonad(data=FlatMapImpl(child=MapImpl(child=ZipImpl(left=MapImpl(child=ZipImpl(left=MapImpl(child=ZipImpl(left=MapImpl(child=ZipImpl(left=MapImpl(child=FromImpl(value=0), map_func=<function zip_.<locals>.<lambda> at 0x000002A463E31620>), right=FromImpl(value=1)), map_func=<function zip_.<locals>.<lambda> at 0x000002A463E316C0>), right=FromImpl(value=2)), map_func=<function zip_.<locals>.<lambda> at 0x000002A463E31760>), right=FromImpl(value=3)), map_func=<function zip_.<locals>.<lambda> at 0x000002A463E31800>), right=FromImpl(value=4)), map_func=<function zip_.<locals>.<lambda> at 0x000002A463E31940>), fmap_func=<function create_expression.<locals>._donotation_flatmap_func_0 at 0x000002A463E313A0>))\n",
      "result=({'init': 3}, 25)\n"
     ]
    }
   ],
   "source": [
    "@dataclass(frozen=True)\n",
    "class ZipImpl(StateMonadNode):\n",
    "    left: StateMonadNode\n",
    "    right: StateMonadNode\n",
    "\n",
    "    def run_state(self, state):\n",
    "        state, left = self.left.run_state(state)\n",
    "        state, right = self.right.run_state(state)\n",
    "        \n",
    "        return state, (left, right)\n",
    "\n",
    "class ZipStateMonad(StateMonad):\n",
    "    def zip(self, other: StateMonad):\n",
    "        data = ZipImpl(\n",
    "            left=self.data,\n",
    "            right=other.data,\n",
    "        )\n",
    "        \n",
    "        return replace(\n",
    "            self,\n",
    "            data=data,\n",
    "        )\n",
    "\n",
    "def zip_(monads):\n",
    "    monads_iterator = iter(monads)\n",
    "    try:\n",
    "        current = next(monads_iterator).map(lambda v: (v,))\n",
    "    except StopIteration:\n",
    "        return from_[State](tuple[U]())\n",
    "    else:\n",
    "        for other in monads_iterator:\n",
    "            current = current.zip(other).map(lambda v: v[0] + (v[1],))\n",
    "        return current\n",
    "\n",
    "def zip_from(val: int):\n",
    "    return ZipStateMonad(\n",
    "        data=FromImpl(\n",
    "            value=val\n",
    "        )\n",
    "    )\n",
    "\n",
    "@do()\n",
    "def create_expression():\n",
    "    values = yield from zip_(zip_from(i) for i in range(5))\n",
    "    state = yield from from_(None).get()\n",
    "    v_add_init = sum(state['init'] + v for v in values)\n",
    "    return from_(v_add_init)\n",
    "\n",
    "expr = create_expression()\n",
    "\n",
    "result = expr.run_state(state)\n",
    "\n",
    "print(f'{expr=}')\n",
    "print(f'{result=}')"
   ]
  }
 ],
 "metadata": {
  "kernelspec": {
   "display_name": "Python 3",
   "language": "python",
   "name": "python3"
  },
  "language_info": {
   "codemirror_mode": {
    "name": "ipython",
    "version": 3
   },
   "file_extension": ".py",
   "mimetype": "text/x-python",
   "name": "python",
   "nbconvert_exporter": "python",
   "pygments_lexer": "ipython3",
   "version": "3.12.4"
  }
 },
 "nbformat": 4,
 "nbformat_minor": 5
}
